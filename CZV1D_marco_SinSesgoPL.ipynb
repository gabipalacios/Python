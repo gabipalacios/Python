{
  "cells": [
    {
      "cell_type": "markdown",
      "metadata": {
        "id": "view-in-github",
        "colab_type": "text"
      },
      "source": [
        "<a href=\"https://colab.research.google.com/github/gabipalacios/Python/blob/main/CZV1D_marco_SinSesgoPL.ipynb\" target=\"_parent\"><img src=\"https://colab.research.google.com/assets/colab-badge.svg\" alt=\"Open In Colab\"/></a>"
      ]
    },
    {
      "cell_type": "code",
      "execution_count": null,
      "metadata": {
        "id": "qwqLH--gQy9f"
      },
      "outputs": [],
      "source": [
        "import numpy as np\n",
        "import pandas as pd\n",
        "import datetime as dt\n",
        "import io\n",
        "from google.colab import files\n",
        "from sklearn.preprocessing import LabelEncoder, OneHotEncoder, MinMaxScaler\n",
        "from sklearn.metrics import classification_report, confusion_matrix\n",
        "from sklearn.model_selection import train_test_split\n",
        "from sklearn.tree import DecisionTreeRegressor\n",
        "from IPython.display import display\n",
        "import matplotlib.pyplot as plt\n",
        "import seaborn as sns\n",
        "import seaborn as sn\n",
        "pd.options.display.float_format = '{:.2f}'.format #Setear opciones globales, todo lo que ejecutemos desde pandas, flotantes y decimales, vana a mostrarse 2 decimales.\n",
        "\n",
        "\n"
      ]
    },
    {
      "cell_type": "code",
      "execution_count": null,
      "metadata": {
        "colab": {
          "base_uri": "https://localhost:8080/"
        },
        "id": "HSKTMOiwSYSz",
        "outputId": "5ef16551-1506-49b0-fef9-067d358b1f1d"
      },
      "outputs": [
        {
          "output_type": "stream",
          "name": "stdout",
          "text": [
            "Mounted at /content/drive\n"
          ]
        }
      ],
      "source": [
        "from google.colab import drive\n",
        "drive.mount('/content/drive')"
      ]
    },
    {
      "cell_type": "code",
      "execution_count": null,
      "metadata": {
        "id": "15e-NLjPTHnX"
      },
      "outputs": [],
      "source": [
        "#Se tomo bbdd de Plataforma, de toda la originación de un período, y se complementa con datos de la cartera de préstamos. Para esto se crea una id compuesta con cédula y mes originación.\n",
        "origen = pd.read_csv('/content/drive/MyDrive/1Empleos/VALOR/1bbddPhyton/bbdd_sinpagos.csv')\n",
        "\n",
        "#Se toman algunos parametros del marco BCU de valor, algunos directos y otros son calculados del mismo marco\n",
        "marco = pd.read_csv('/content/drive/MyDrive/1Empleos/VALOR/1bbddPhyton/bbdd_PreMarcoBCU.csv')"
      ]
    },
    {
      "cell_type": "code",
      "source": [
        "df = pd.merge(origen, marco, on='Documento', how='inner')\n"
      ],
      "metadata": {
        "id": "0K-4ylq3Jyd-"
      },
      "execution_count": null,
      "outputs": []
    },
    {
      "cell_type": "code",
      "source": [
        "print(origen.shape)\n",
        "print(marco.shape)\n",
        "print(df.shape)"
      ],
      "metadata": {
        "colab": {
          "base_uri": "https://localhost:8080/"
        },
        "id": "IaMS-0exDo59",
        "outputId": "add99afe-4f40-4dd6-cec7-ec57924a01c6"
      },
      "execution_count": null,
      "outputs": [
        {
          "output_type": "stream",
          "name": "stdout",
          "text": [
            "(2700, 73)\n",
            "(2445, 13)\n",
            "(1948, 85)\n"
          ]
        }
      ]
    },
    {
      "cell_type": "code",
      "source": [
        "marco.info()"
      ],
      "metadata": {
        "colab": {
          "base_uri": "https://localhost:8080/"
        },
        "id": "RvyWMJRFDxoi",
        "outputId": "89352a6e-2f0a-4715-8a24-5abf47d37387"
      },
      "execution_count": null,
      "outputs": [
        {
          "output_type": "stream",
          "name": "stdout",
          "text": [
            "<class 'pandas.core.frame.DataFrame'>\n",
            "RangeIndex: 2445 entries, 0 to 2444\n",
            "Data columns (total 13 columns):\n",
            " #   Column              Non-Null Count  Dtype  \n",
            "---  ------              --------------  -----  \n",
            " 0   Documento           2445 non-null   int64  \n",
            " 1   Entidades           2445 non-null   int64  \n",
            " 2   Exposición          2445 non-null   int64  \n",
            " 3   Deuda               2445 non-null   int64  \n",
            " 4   Rel_DeudaPrincipal  2445 non-null   float64\n",
            " 5   Contingencia        2445 non-null   int64  \n",
            " 6   Var_dueda_3M        2445 non-null   float64\n",
            " 7   Sin_Ficha           2445 non-null   int64  \n",
            " 8   Malos               2445 non-null   int64  \n",
            " 9   Mejora              2445 non-null   int64  \n",
            " 10  Grupo_b             2445 non-null   object \n",
            " 11  Grupo_i             2445 non-null   object \n",
            " 12  Q_irregular_12m     2445 non-null   int64  \n",
            "dtypes: float64(2), int64(9), object(2)\n",
            "memory usage: 248.4+ KB\n"
          ]
        }
      ]
    },
    {
      "cell_type": "code",
      "source": [
        "marco.describe()"
      ],
      "metadata": {
        "colab": {
          "base_uri": "https://localhost:8080/",
          "height": 300
        },
        "id": "4vQKjaOyE-K8",
        "outputId": "c4647100-cd66-472b-975a-3af39070e928"
      },
      "execution_count": null,
      "outputs": [
        {
          "output_type": "execute_result",
          "data": {
            "text/plain": [
              "        Documento  Entidades  Exposición      Deuda  Rel_DeudaPrincipal  \\\n",
              "count     2445.00    2445.00     2445.00    2445.00             2445.00   \n",
              "mean  38410740.11       3.65   355559.17  312354.36                0.56   \n",
              "std   10945303.70       2.16   594500.85  559457.87                0.24   \n",
              "min    9284774.00       1.00        0.00       0.00                0.00   \n",
              "25%   31716874.00       2.00    71884.00   57138.00                0.38   \n",
              "50%   40941181.00       3.00   164374.00  139288.00                0.52   \n",
              "75%   47123946.00       5.00   405034.00  343265.00                0.73   \n",
              "max   65521382.00      13.00  9341142.00 9180499.00                1.00   \n",
              "\n",
              "       Contingencia  Var_dueda_3M  Sin_Ficha   Malos  Mejora  Q_irregular_12m  \n",
              "count       2445.00       2445.00    2445.00 2445.00 2445.00          2445.00  \n",
              "mean           0.63          0.85       0.29    0.16    0.27             0.98  \n",
              "std            0.48          2.03       0.71    0.53    1.12             1.87  \n",
              "min            0.00         -1.00       0.00    0.00   -5.00             0.00  \n",
              "25%            0.00         -0.01       0.00    0.00    0.00             0.00  \n",
              "50%            1.00          0.13       0.00    0.00    0.00             0.00  \n",
              "75%            1.00          0.71       0.00    0.00    0.00             1.00  \n",
              "max            1.00         10.00       3.00    3.00    6.00            12.00  "
            ],
            "text/html": [
              "\n",
              "  <div id=\"df-b7dd4f5f-094f-4602-b1a6-3a894a22a99e\" class=\"colab-df-container\">\n",
              "    <div>\n",
              "<style scoped>\n",
              "    .dataframe tbody tr th:only-of-type {\n",
              "        vertical-align: middle;\n",
              "    }\n",
              "\n",
              "    .dataframe tbody tr th {\n",
              "        vertical-align: top;\n",
              "    }\n",
              "\n",
              "    .dataframe thead th {\n",
              "        text-align: right;\n",
              "    }\n",
              "</style>\n",
              "<table border=\"1\" class=\"dataframe\">\n",
              "  <thead>\n",
              "    <tr style=\"text-align: right;\">\n",
              "      <th></th>\n",
              "      <th>Documento</th>\n",
              "      <th>Entidades</th>\n",
              "      <th>Exposición</th>\n",
              "      <th>Deuda</th>\n",
              "      <th>Rel_DeudaPrincipal</th>\n",
              "      <th>Contingencia</th>\n",
              "      <th>Var_dueda_3M</th>\n",
              "      <th>Sin_Ficha</th>\n",
              "      <th>Malos</th>\n",
              "      <th>Mejora</th>\n",
              "      <th>Q_irregular_12m</th>\n",
              "    </tr>\n",
              "  </thead>\n",
              "  <tbody>\n",
              "    <tr>\n",
              "      <th>count</th>\n",
              "      <td>2445.00</td>\n",
              "      <td>2445.00</td>\n",
              "      <td>2445.00</td>\n",
              "      <td>2445.00</td>\n",
              "      <td>2445.00</td>\n",
              "      <td>2445.00</td>\n",
              "      <td>2445.00</td>\n",
              "      <td>2445.00</td>\n",
              "      <td>2445.00</td>\n",
              "      <td>2445.00</td>\n",
              "      <td>2445.00</td>\n",
              "    </tr>\n",
              "    <tr>\n",
              "      <th>mean</th>\n",
              "      <td>38410740.11</td>\n",
              "      <td>3.65</td>\n",
              "      <td>355559.17</td>\n",
              "      <td>312354.36</td>\n",
              "      <td>0.56</td>\n",
              "      <td>0.63</td>\n",
              "      <td>0.85</td>\n",
              "      <td>0.29</td>\n",
              "      <td>0.16</td>\n",
              "      <td>0.27</td>\n",
              "      <td>0.98</td>\n",
              "    </tr>\n",
              "    <tr>\n",
              "      <th>std</th>\n",
              "      <td>10945303.70</td>\n",
              "      <td>2.16</td>\n",
              "      <td>594500.85</td>\n",
              "      <td>559457.87</td>\n",
              "      <td>0.24</td>\n",
              "      <td>0.48</td>\n",
              "      <td>2.03</td>\n",
              "      <td>0.71</td>\n",
              "      <td>0.53</td>\n",
              "      <td>1.12</td>\n",
              "      <td>1.87</td>\n",
              "    </tr>\n",
              "    <tr>\n",
              "      <th>min</th>\n",
              "      <td>9284774.00</td>\n",
              "      <td>1.00</td>\n",
              "      <td>0.00</td>\n",
              "      <td>0.00</td>\n",
              "      <td>0.00</td>\n",
              "      <td>0.00</td>\n",
              "      <td>-1.00</td>\n",
              "      <td>0.00</td>\n",
              "      <td>0.00</td>\n",
              "      <td>-5.00</td>\n",
              "      <td>0.00</td>\n",
              "    </tr>\n",
              "    <tr>\n",
              "      <th>25%</th>\n",
              "      <td>31716874.00</td>\n",
              "      <td>2.00</td>\n",
              "      <td>71884.00</td>\n",
              "      <td>57138.00</td>\n",
              "      <td>0.38</td>\n",
              "      <td>0.00</td>\n",
              "      <td>-0.01</td>\n",
              "      <td>0.00</td>\n",
              "      <td>0.00</td>\n",
              "      <td>0.00</td>\n",
              "      <td>0.00</td>\n",
              "    </tr>\n",
              "    <tr>\n",
              "      <th>50%</th>\n",
              "      <td>40941181.00</td>\n",
              "      <td>3.00</td>\n",
              "      <td>164374.00</td>\n",
              "      <td>139288.00</td>\n",
              "      <td>0.52</td>\n",
              "      <td>1.00</td>\n",
              "      <td>0.13</td>\n",
              "      <td>0.00</td>\n",
              "      <td>0.00</td>\n",
              "      <td>0.00</td>\n",
              "      <td>0.00</td>\n",
              "    </tr>\n",
              "    <tr>\n",
              "      <th>75%</th>\n",
              "      <td>47123946.00</td>\n",
              "      <td>5.00</td>\n",
              "      <td>405034.00</td>\n",
              "      <td>343265.00</td>\n",
              "      <td>0.73</td>\n",
              "      <td>1.00</td>\n",
              "      <td>0.71</td>\n",
              "      <td>0.00</td>\n",
              "      <td>0.00</td>\n",
              "      <td>0.00</td>\n",
              "      <td>1.00</td>\n",
              "    </tr>\n",
              "    <tr>\n",
              "      <th>max</th>\n",
              "      <td>65521382.00</td>\n",
              "      <td>13.00</td>\n",
              "      <td>9341142.00</td>\n",
              "      <td>9180499.00</td>\n",
              "      <td>1.00</td>\n",
              "      <td>1.00</td>\n",
              "      <td>10.00</td>\n",
              "      <td>3.00</td>\n",
              "      <td>3.00</td>\n",
              "      <td>6.00</td>\n",
              "      <td>12.00</td>\n",
              "    </tr>\n",
              "  </tbody>\n",
              "</table>\n",
              "</div>\n",
              "    <div class=\"colab-df-buttons\">\n",
              "\n",
              "  <div class=\"colab-df-container\">\n",
              "    <button class=\"colab-df-convert\" onclick=\"convertToInteractive('df-b7dd4f5f-094f-4602-b1a6-3a894a22a99e')\"\n",
              "            title=\"Convert this dataframe to an interactive table.\"\n",
              "            style=\"display:none;\">\n",
              "\n",
              "  <svg xmlns=\"http://www.w3.org/2000/svg\" height=\"24px\" viewBox=\"0 -960 960 960\">\n",
              "    <path d=\"M120-120v-720h720v720H120Zm60-500h600v-160H180v160Zm220 220h160v-160H400v160Zm0 220h160v-160H400v160ZM180-400h160v-160H180v160Zm440 0h160v-160H620v160ZM180-180h160v-160H180v160Zm440 0h160v-160H620v160Z\"/>\n",
              "  </svg>\n",
              "    </button>\n",
              "\n",
              "  <style>\n",
              "    .colab-df-container {\n",
              "      display:flex;\n",
              "      gap: 12px;\n",
              "    }\n",
              "\n",
              "    .colab-df-convert {\n",
              "      background-color: #E8F0FE;\n",
              "      border: none;\n",
              "      border-radius: 50%;\n",
              "      cursor: pointer;\n",
              "      display: none;\n",
              "      fill: #1967D2;\n",
              "      height: 32px;\n",
              "      padding: 0 0 0 0;\n",
              "      width: 32px;\n",
              "    }\n",
              "\n",
              "    .colab-df-convert:hover {\n",
              "      background-color: #E2EBFA;\n",
              "      box-shadow: 0px 1px 2px rgba(60, 64, 67, 0.3), 0px 1px 3px 1px rgba(60, 64, 67, 0.15);\n",
              "      fill: #174EA6;\n",
              "    }\n",
              "\n",
              "    .colab-df-buttons div {\n",
              "      margin-bottom: 4px;\n",
              "    }\n",
              "\n",
              "    [theme=dark] .colab-df-convert {\n",
              "      background-color: #3B4455;\n",
              "      fill: #D2E3FC;\n",
              "    }\n",
              "\n",
              "    [theme=dark] .colab-df-convert:hover {\n",
              "      background-color: #434B5C;\n",
              "      box-shadow: 0px 1px 3px 1px rgba(0, 0, 0, 0.15);\n",
              "      filter: drop-shadow(0px 1px 2px rgba(0, 0, 0, 0.3));\n",
              "      fill: #FFFFFF;\n",
              "    }\n",
              "  </style>\n",
              "\n",
              "    <script>\n",
              "      const buttonEl =\n",
              "        document.querySelector('#df-b7dd4f5f-094f-4602-b1a6-3a894a22a99e button.colab-df-convert');\n",
              "      buttonEl.style.display =\n",
              "        google.colab.kernel.accessAllowed ? 'block' : 'none';\n",
              "\n",
              "      async function convertToInteractive(key) {\n",
              "        const element = document.querySelector('#df-b7dd4f5f-094f-4602-b1a6-3a894a22a99e');\n",
              "        const dataTable =\n",
              "          await google.colab.kernel.invokeFunction('convertToInteractive',\n",
              "                                                    [key], {});\n",
              "        if (!dataTable) return;\n",
              "\n",
              "        const docLinkHtml = 'Like what you see? Visit the ' +\n",
              "          '<a target=\"_blank\" href=https://colab.research.google.com/notebooks/data_table.ipynb>data table notebook</a>'\n",
              "          + ' to learn more about interactive tables.';\n",
              "        element.innerHTML = '';\n",
              "        dataTable['output_type'] = 'display_data';\n",
              "        await google.colab.output.renderOutput(dataTable, element);\n",
              "        const docLink = document.createElement('div');\n",
              "        docLink.innerHTML = docLinkHtml;\n",
              "        element.appendChild(docLink);\n",
              "      }\n",
              "    </script>\n",
              "  </div>\n",
              "\n",
              "\n",
              "    <div id=\"df-b065d103-5bad-4abc-9ec4-0b4d9790fab5\">\n",
              "      <button class=\"colab-df-quickchart\" onclick=\"quickchart('df-b065d103-5bad-4abc-9ec4-0b4d9790fab5')\"\n",
              "                title=\"Suggest charts\"\n",
              "                style=\"display:none;\">\n",
              "\n",
              "<svg xmlns=\"http://www.w3.org/2000/svg\" height=\"24px\"viewBox=\"0 0 24 24\"\n",
              "     width=\"24px\">\n",
              "    <g>\n",
              "        <path d=\"M19 3H5c-1.1 0-2 .9-2 2v14c0 1.1.9 2 2 2h14c1.1 0 2-.9 2-2V5c0-1.1-.9-2-2-2zM9 17H7v-7h2v7zm4 0h-2V7h2v10zm4 0h-2v-4h2v4z\"/>\n",
              "    </g>\n",
              "</svg>\n",
              "      </button>\n",
              "\n",
              "<style>\n",
              "  .colab-df-quickchart {\n",
              "      --bg-color: #E8F0FE;\n",
              "      --fill-color: #1967D2;\n",
              "      --hover-bg-color: #E2EBFA;\n",
              "      --hover-fill-color: #174EA6;\n",
              "      --disabled-fill-color: #AAA;\n",
              "      --disabled-bg-color: #DDD;\n",
              "  }\n",
              "\n",
              "  [theme=dark] .colab-df-quickchart {\n",
              "      --bg-color: #3B4455;\n",
              "      --fill-color: #D2E3FC;\n",
              "      --hover-bg-color: #434B5C;\n",
              "      --hover-fill-color: #FFFFFF;\n",
              "      --disabled-bg-color: #3B4455;\n",
              "      --disabled-fill-color: #666;\n",
              "  }\n",
              "\n",
              "  .colab-df-quickchart {\n",
              "    background-color: var(--bg-color);\n",
              "    border: none;\n",
              "    border-radius: 50%;\n",
              "    cursor: pointer;\n",
              "    display: none;\n",
              "    fill: var(--fill-color);\n",
              "    height: 32px;\n",
              "    padding: 0;\n",
              "    width: 32px;\n",
              "  }\n",
              "\n",
              "  .colab-df-quickchart:hover {\n",
              "    background-color: var(--hover-bg-color);\n",
              "    box-shadow: 0 1px 2px rgba(60, 64, 67, 0.3), 0 1px 3px 1px rgba(60, 64, 67, 0.15);\n",
              "    fill: var(--button-hover-fill-color);\n",
              "  }\n",
              "\n",
              "  .colab-df-quickchart-complete:disabled,\n",
              "  .colab-df-quickchart-complete:disabled:hover {\n",
              "    background-color: var(--disabled-bg-color);\n",
              "    fill: var(--disabled-fill-color);\n",
              "    box-shadow: none;\n",
              "  }\n",
              "\n",
              "  .colab-df-spinner {\n",
              "    border: 2px solid var(--fill-color);\n",
              "    border-color: transparent;\n",
              "    border-bottom-color: var(--fill-color);\n",
              "    animation:\n",
              "      spin 1s steps(1) infinite;\n",
              "  }\n",
              "\n",
              "  @keyframes spin {\n",
              "    0% {\n",
              "      border-color: transparent;\n",
              "      border-bottom-color: var(--fill-color);\n",
              "      border-left-color: var(--fill-color);\n",
              "    }\n",
              "    20% {\n",
              "      border-color: transparent;\n",
              "      border-left-color: var(--fill-color);\n",
              "      border-top-color: var(--fill-color);\n",
              "    }\n",
              "    30% {\n",
              "      border-color: transparent;\n",
              "      border-left-color: var(--fill-color);\n",
              "      border-top-color: var(--fill-color);\n",
              "      border-right-color: var(--fill-color);\n",
              "    }\n",
              "    40% {\n",
              "      border-color: transparent;\n",
              "      border-right-color: var(--fill-color);\n",
              "      border-top-color: var(--fill-color);\n",
              "    }\n",
              "    60% {\n",
              "      border-color: transparent;\n",
              "      border-right-color: var(--fill-color);\n",
              "    }\n",
              "    80% {\n",
              "      border-color: transparent;\n",
              "      border-right-color: var(--fill-color);\n",
              "      border-bottom-color: var(--fill-color);\n",
              "    }\n",
              "    90% {\n",
              "      border-color: transparent;\n",
              "      border-bottom-color: var(--fill-color);\n",
              "    }\n",
              "  }\n",
              "</style>\n",
              "\n",
              "      <script>\n",
              "        async function quickchart(key) {\n",
              "          const quickchartButtonEl =\n",
              "            document.querySelector('#' + key + ' button');\n",
              "          quickchartButtonEl.disabled = true;  // To prevent multiple clicks.\n",
              "          quickchartButtonEl.classList.add('colab-df-spinner');\n",
              "          try {\n",
              "            const charts = await google.colab.kernel.invokeFunction(\n",
              "                'suggestCharts', [key], {});\n",
              "          } catch (error) {\n",
              "            console.error('Error during call to suggestCharts:', error);\n",
              "          }\n",
              "          quickchartButtonEl.classList.remove('colab-df-spinner');\n",
              "          quickchartButtonEl.classList.add('colab-df-quickchart-complete');\n",
              "        }\n",
              "        (() => {\n",
              "          let quickchartButtonEl =\n",
              "            document.querySelector('#df-b065d103-5bad-4abc-9ec4-0b4d9790fab5 button');\n",
              "          quickchartButtonEl.style.display =\n",
              "            google.colab.kernel.accessAllowed ? 'block' : 'none';\n",
              "        })();\n",
              "      </script>\n",
              "    </div>\n",
              "\n",
              "    </div>\n",
              "  </div>\n"
            ],
            "application/vnd.google.colaboratory.intrinsic+json": {
              "type": "dataframe",
              "summary": "{\n  \"name\": \"marco\",\n  \"rows\": 8,\n  \"fields\": [\n    {\n      \"column\": \"Documento\",\n      \"properties\": {\n        \"dtype\": \"number\",\n        \"std\": 22163367.770676542,\n        \"min\": 2445.0,\n        \"max\": 65521382.0,\n        \"num_unique_values\": 8,\n        \"samples\": [\n          38410740.11124744,\n          40941181.0,\n          2445.0\n        ],\n        \"semantic_type\": \"\",\n        \"description\": \"\"\n      }\n    },\n    {\n      \"column\": \"Entidades\",\n      \"properties\": {\n        \"dtype\": \"number\",\n        \"std\": 862.9407283250804,\n        \"min\": 1.0,\n        \"max\": 2445.0,\n        \"num_unique_values\": 8,\n        \"samples\": [\n          3.648670756646217,\n          3.0,\n          2445.0\n        ],\n        \"semantic_type\": \"\",\n        \"description\": \"\"\n      }\n    },\n    {\n      \"column\": \"Exposici\\u00f3n\",\n      \"properties\": {\n        \"dtype\": \"number\",\n        \"std\": 3229029.5020061433,\n        \"min\": 0.0,\n        \"max\": 9341142.0,\n        \"num_unique_values\": 8,\n        \"samples\": [\n          355559.1693251534,\n          164374.0,\n          2445.0\n        ],\n        \"semantic_type\": \"\",\n        \"description\": \"\"\n      }\n    },\n    {\n      \"column\": \"Deuda\",\n      \"properties\": {\n        \"dtype\": \"number\",\n        \"std\": 3180348.9019300244,\n        \"min\": 0.0,\n        \"max\": 9180499.0,\n        \"num_unique_values\": 8,\n        \"samples\": [\n          312354.3570552147,\n          139288.0,\n          2445.0\n        ],\n        \"semantic_type\": \"\",\n        \"description\": \"\"\n      }\n    },\n    {\n      \"column\": \"Rel_DeudaPrincipal\",\n      \"properties\": {\n        \"dtype\": \"number\",\n        \"std\": 864.2650463078634,\n        \"min\": 0.0,\n        \"max\": 2445.0,\n        \"num_unique_values\": 8,\n        \"samples\": [\n          0.5578388982736587,\n          0.5223033163232058,\n          2445.0\n        ],\n        \"semantic_type\": \"\",\n        \"description\": \"\"\n      }\n    },\n    {\n      \"column\": \"Contingencia\",\n      \"properties\": {\n        \"dtype\": \"number\",\n        \"std\": 864.2304277111512,\n        \"min\": 0.0,\n        \"max\": 2445.0,\n        \"num_unique_values\": 5,\n        \"samples\": [\n          0.6294478527607362,\n          1.0,\n          0.4830514345926645\n        ],\n        \"semantic_type\": \"\",\n        \"description\": \"\"\n      }\n    },\n    {\n      \"column\": \"Var_dueda_3M\",\n      \"properties\": {\n        \"dtype\": \"number\",\n        \"std\": 863.8027565945274,\n        \"min\": -1.0,\n        \"max\": 2445.0,\n        \"num_unique_values\": 8,\n        \"samples\": [\n          0.8491546680634515,\n          0.1344103222339973,\n          2445.0\n        ],\n        \"semantic_type\": \"\",\n        \"description\": \"\"\n      }\n    },\n    {\n      \"column\": \"Sin_Ficha\",\n      \"properties\": {\n        \"dtype\": \"number\",\n        \"std\": 864.2362131421911,\n        \"min\": 0.0,\n        \"max\": 2445.0,\n        \"num_unique_values\": 5,\n        \"samples\": [\n          0.294478527607362,\n          3.0,\n          0.7134364693474072\n        ],\n        \"semantic_type\": \"\",\n        \"description\": \"\"\n      }\n    },\n    {\n      \"column\": \"Malos\",\n      \"properties\": {\n        \"dtype\": \"number\",\n        \"std\": 864.2523899167317,\n        \"min\": 0.0,\n        \"max\": 2445.0,\n        \"num_unique_values\": 5,\n        \"samples\": [\n          0.1623721881390593,\n          3.0,\n          0.5253547789288356\n        ],\n        \"semantic_type\": \"\",\n        \"description\": \"\"\n      }\n    },\n    {\n      \"column\": \"Mejora\",\n      \"properties\": {\n        \"dtype\": \"number\",\n        \"std\": 864.3223786345377,\n        \"min\": -5.0,\n        \"max\": 2445.0,\n        \"num_unique_values\": 6,\n        \"samples\": [\n          2445.0,\n          0.27443762781186093,\n          6.0\n        ],\n        \"semantic_type\": \"\",\n        \"description\": \"\"\n      }\n    },\n    {\n      \"column\": \"Q_irregular_12m\",\n      \"properties\": {\n        \"dtype\": \"number\",\n        \"std\": 863.6468362726145,\n        \"min\": 0.0,\n        \"max\": 2445.0,\n        \"num_unique_values\": 6,\n        \"samples\": [\n          2445.0,\n          0.9820040899795501,\n          12.0\n        ],\n        \"semantic_type\": \"\",\n        \"description\": \"\"\n      }\n    }\n  ]\n}"
            }
          },
          "metadata": {},
          "execution_count": 7
        }
      ]
    },
    {
      "cell_type": "markdown",
      "source": [],
      "metadata": {
        "id": "7Sa4Z1g9xbGu"
      }
    },
    {
      "cell_type": "code",
      "execution_count": null,
      "metadata": {
        "id": "Wys432ZvhCd4",
        "colab": {
          "base_uri": "https://localhost:8080/",
          "height": 356
        },
        "outputId": "413bbd8a-04f0-42e0-842d-2d22deb54960"
      },
      "outputs": [
        {
          "output_type": "error",
          "ename": "KeyError",
          "evalue": "\"['pricing'] not found in axis\"",
          "traceback": [
            "\u001b[0;31m---------------------------------------------------------------------------\u001b[0m",
            "\u001b[0;31mKeyError\u001b[0m                                  Traceback (most recent call last)",
            "\u001b[0;32m<ipython-input-8-33f3fdb2d5ae>\u001b[0m in \u001b[0;36m<cell line: 0>\u001b[0;34m()\u001b[0m\n\u001b[1;32m     50\u001b[0m \u001b[0mdf\u001b[0m \u001b[0;34m=\u001b[0m \u001b[0mdf\u001b[0m\u001b[0;34m.\u001b[0m\u001b[0mdrop\u001b[0m\u001b[0;34m(\u001b[0m\u001b[0;34m'plazo_hasta'\u001b[0m\u001b[0;34m,\u001b[0m \u001b[0maxis\u001b[0m\u001b[0;34m=\u001b[0m\u001b[0;36m1\u001b[0m\u001b[0;34m)\u001b[0m\u001b[0;34m\u001b[0m\u001b[0;34m\u001b[0m\u001b[0m\n\u001b[1;32m     51\u001b[0m \u001b[0mdf\u001b[0m \u001b[0;34m=\u001b[0m \u001b[0mdf\u001b[0m\u001b[0;34m.\u001b[0m\u001b[0mdrop\u001b[0m\u001b[0;34m(\u001b[0m\u001b[0;34m'monto_maximo'\u001b[0m\u001b[0;34m,\u001b[0m \u001b[0maxis\u001b[0m\u001b[0;34m=\u001b[0m\u001b[0;36m1\u001b[0m\u001b[0;34m)\u001b[0m\u001b[0;34m\u001b[0m\u001b[0;34m\u001b[0m\u001b[0m\n\u001b[0;32m---> 52\u001b[0;31m \u001b[0mdf\u001b[0m \u001b[0;34m=\u001b[0m \u001b[0mdf\u001b[0m\u001b[0;34m.\u001b[0m\u001b[0mdrop\u001b[0m\u001b[0;34m(\u001b[0m\u001b[0;34m'pricing'\u001b[0m\u001b[0;34m,\u001b[0m \u001b[0maxis\u001b[0m\u001b[0;34m=\u001b[0m\u001b[0;36m1\u001b[0m\u001b[0;34m)\u001b[0m\u001b[0;34m\u001b[0m\u001b[0;34m\u001b[0m\u001b[0m\n\u001b[0m\u001b[1;32m     53\u001b[0m \u001b[0mdf\u001b[0m \u001b[0;34m=\u001b[0m \u001b[0mdf\u001b[0m\u001b[0;34m.\u001b[0m\u001b[0mdrop\u001b[0m\u001b[0;34m(\u001b[0m\u001b[0;34m'ingreso_estimado'\u001b[0m\u001b[0;34m,\u001b[0m \u001b[0maxis\u001b[0m\u001b[0;34m=\u001b[0m\u001b[0;36m1\u001b[0m\u001b[0;34m)\u001b[0m\u001b[0;34m\u001b[0m\u001b[0;34m\u001b[0m\u001b[0m\n",
            "\u001b[0;32m/usr/local/lib/python3.11/dist-packages/pandas/core/frame.py\u001b[0m in \u001b[0;36mdrop\u001b[0;34m(self, labels, axis, index, columns, level, inplace, errors)\u001b[0m\n\u001b[1;32m   5579\u001b[0m                 \u001b[0mweight\u001b[0m  \u001b[0;36m1.0\u001b[0m     \u001b[0;36m0.8\u001b[0m\u001b[0;34m\u001b[0m\u001b[0;34m\u001b[0m\u001b[0m\n\u001b[1;32m   5580\u001b[0m         \"\"\"\n\u001b[0;32m-> 5581\u001b[0;31m         return super().drop(\n\u001b[0m\u001b[1;32m   5582\u001b[0m             \u001b[0mlabels\u001b[0m\u001b[0;34m=\u001b[0m\u001b[0mlabels\u001b[0m\u001b[0;34m,\u001b[0m\u001b[0;34m\u001b[0m\u001b[0;34m\u001b[0m\u001b[0m\n\u001b[1;32m   5583\u001b[0m             \u001b[0maxis\u001b[0m\u001b[0;34m=\u001b[0m\u001b[0maxis\u001b[0m\u001b[0;34m,\u001b[0m\u001b[0;34m\u001b[0m\u001b[0;34m\u001b[0m\u001b[0m\n",
            "\u001b[0;32m/usr/local/lib/python3.11/dist-packages/pandas/core/generic.py\u001b[0m in \u001b[0;36mdrop\u001b[0;34m(self, labels, axis, index, columns, level, inplace, errors)\u001b[0m\n\u001b[1;32m   4786\u001b[0m         \u001b[0;32mfor\u001b[0m \u001b[0maxis\u001b[0m\u001b[0;34m,\u001b[0m \u001b[0mlabels\u001b[0m \u001b[0;32min\u001b[0m \u001b[0maxes\u001b[0m\u001b[0;34m.\u001b[0m\u001b[0mitems\u001b[0m\u001b[0;34m(\u001b[0m\u001b[0;34m)\u001b[0m\u001b[0;34m:\u001b[0m\u001b[0;34m\u001b[0m\u001b[0;34m\u001b[0m\u001b[0m\n\u001b[1;32m   4787\u001b[0m             \u001b[0;32mif\u001b[0m \u001b[0mlabels\u001b[0m \u001b[0;32mis\u001b[0m \u001b[0;32mnot\u001b[0m \u001b[0;32mNone\u001b[0m\u001b[0;34m:\u001b[0m\u001b[0;34m\u001b[0m\u001b[0;34m\u001b[0m\u001b[0m\n\u001b[0;32m-> 4788\u001b[0;31m                 \u001b[0mobj\u001b[0m \u001b[0;34m=\u001b[0m \u001b[0mobj\u001b[0m\u001b[0;34m.\u001b[0m\u001b[0m_drop_axis\u001b[0m\u001b[0;34m(\u001b[0m\u001b[0mlabels\u001b[0m\u001b[0;34m,\u001b[0m \u001b[0maxis\u001b[0m\u001b[0;34m,\u001b[0m \u001b[0mlevel\u001b[0m\u001b[0;34m=\u001b[0m\u001b[0mlevel\u001b[0m\u001b[0;34m,\u001b[0m \u001b[0merrors\u001b[0m\u001b[0;34m=\u001b[0m\u001b[0merrors\u001b[0m\u001b[0;34m)\u001b[0m\u001b[0;34m\u001b[0m\u001b[0;34m\u001b[0m\u001b[0m\n\u001b[0m\u001b[1;32m   4789\u001b[0m \u001b[0;34m\u001b[0m\u001b[0m\n\u001b[1;32m   4790\u001b[0m         \u001b[0;32mif\u001b[0m \u001b[0minplace\u001b[0m\u001b[0;34m:\u001b[0m\u001b[0;34m\u001b[0m\u001b[0;34m\u001b[0m\u001b[0m\n",
            "\u001b[0;32m/usr/local/lib/python3.11/dist-packages/pandas/core/generic.py\u001b[0m in \u001b[0;36m_drop_axis\u001b[0;34m(self, labels, axis, level, errors, only_slice)\u001b[0m\n\u001b[1;32m   4828\u001b[0m                 \u001b[0mnew_axis\u001b[0m \u001b[0;34m=\u001b[0m \u001b[0maxis\u001b[0m\u001b[0;34m.\u001b[0m\u001b[0mdrop\u001b[0m\u001b[0;34m(\u001b[0m\u001b[0mlabels\u001b[0m\u001b[0;34m,\u001b[0m \u001b[0mlevel\u001b[0m\u001b[0;34m=\u001b[0m\u001b[0mlevel\u001b[0m\u001b[0;34m,\u001b[0m \u001b[0merrors\u001b[0m\u001b[0;34m=\u001b[0m\u001b[0merrors\u001b[0m\u001b[0;34m)\u001b[0m\u001b[0;34m\u001b[0m\u001b[0;34m\u001b[0m\u001b[0m\n\u001b[1;32m   4829\u001b[0m             \u001b[0;32melse\u001b[0m\u001b[0;34m:\u001b[0m\u001b[0;34m\u001b[0m\u001b[0;34m\u001b[0m\u001b[0m\n\u001b[0;32m-> 4830\u001b[0;31m                 \u001b[0mnew_axis\u001b[0m \u001b[0;34m=\u001b[0m \u001b[0maxis\u001b[0m\u001b[0;34m.\u001b[0m\u001b[0mdrop\u001b[0m\u001b[0;34m(\u001b[0m\u001b[0mlabels\u001b[0m\u001b[0;34m,\u001b[0m \u001b[0merrors\u001b[0m\u001b[0;34m=\u001b[0m\u001b[0merrors\u001b[0m\u001b[0;34m)\u001b[0m\u001b[0;34m\u001b[0m\u001b[0;34m\u001b[0m\u001b[0m\n\u001b[0m\u001b[1;32m   4831\u001b[0m             \u001b[0mindexer\u001b[0m \u001b[0;34m=\u001b[0m \u001b[0maxis\u001b[0m\u001b[0;34m.\u001b[0m\u001b[0mget_indexer\u001b[0m\u001b[0;34m(\u001b[0m\u001b[0mnew_axis\u001b[0m\u001b[0;34m)\u001b[0m\u001b[0;34m\u001b[0m\u001b[0;34m\u001b[0m\u001b[0m\n\u001b[1;32m   4832\u001b[0m \u001b[0;34m\u001b[0m\u001b[0m\n",
            "\u001b[0;32m/usr/local/lib/python3.11/dist-packages/pandas/core/indexes/base.py\u001b[0m in \u001b[0;36mdrop\u001b[0;34m(self, labels, errors)\u001b[0m\n\u001b[1;32m   7068\u001b[0m         \u001b[0;32mif\u001b[0m \u001b[0mmask\u001b[0m\u001b[0;34m.\u001b[0m\u001b[0many\u001b[0m\u001b[0;34m(\u001b[0m\u001b[0;34m)\u001b[0m\u001b[0;34m:\u001b[0m\u001b[0;34m\u001b[0m\u001b[0;34m\u001b[0m\u001b[0m\n\u001b[1;32m   7069\u001b[0m             \u001b[0;32mif\u001b[0m \u001b[0merrors\u001b[0m \u001b[0;34m!=\u001b[0m \u001b[0;34m\"ignore\"\u001b[0m\u001b[0;34m:\u001b[0m\u001b[0;34m\u001b[0m\u001b[0;34m\u001b[0m\u001b[0m\n\u001b[0;32m-> 7070\u001b[0;31m                 \u001b[0;32mraise\u001b[0m \u001b[0mKeyError\u001b[0m\u001b[0;34m(\u001b[0m\u001b[0;34mf\"{labels[mask].tolist()} not found in axis\"\u001b[0m\u001b[0;34m)\u001b[0m\u001b[0;34m\u001b[0m\u001b[0;34m\u001b[0m\u001b[0m\n\u001b[0m\u001b[1;32m   7071\u001b[0m             \u001b[0mindexer\u001b[0m \u001b[0;34m=\u001b[0m \u001b[0mindexer\u001b[0m\u001b[0;34m[\u001b[0m\u001b[0;34m~\u001b[0m\u001b[0mmask\u001b[0m\u001b[0;34m]\u001b[0m\u001b[0;34m\u001b[0m\u001b[0;34m\u001b[0m\u001b[0m\n\u001b[1;32m   7072\u001b[0m         \u001b[0;32mreturn\u001b[0m \u001b[0mself\u001b[0m\u001b[0;34m.\u001b[0m\u001b[0mdelete\u001b[0m\u001b[0;34m(\u001b[0m\u001b[0mindexer\u001b[0m\u001b[0;34m)\u001b[0m\u001b[0;34m\u001b[0m\u001b[0;34m\u001b[0m\u001b[0m\n",
            "\u001b[0;31mKeyError\u001b[0m: \"['pricing'] not found in axis\""
          ]
        }
      ],
      "source": [
        "#Elimino campos que no tengo el dato de plataforma, pero si de Financial, son prestamos que si bien\n",
        "#se originan en plataforma, se termienan prestamos por terceros. Tengo los datos de Monto, Cuota y tasa.\n",
        "#cardo orig, seguro y cargo adm los saco porque además de faltar datos, son resultados que no aportan valor al modelo\n",
        "df = df.drop('monto', axis=1)\n",
        "df = df.drop('cuota', axis=1)\n",
        "df = df.drop('tasa', axis=1)\n",
        "df = df.drop('plazo', axis=1)\n",
        "df = df.drop('cargo_originacion', axis=1)\n",
        "df = df.drop('tiene_seguro', axis=1)\n",
        "df = df.drop('tiene_cargo_adm', axis=1)\n",
        "df = df.drop('clr_score_if', axis=1)\n",
        "df = df.drop('clr_bp_fecha', axis=1)\n",
        "df = df.drop('rpf_alert', axis=1)\n",
        "df = df.drop('cdr_tiene_quita', axis=1)\n",
        "df = df.drop('cdr_tiene_oca', axis=1)\n",
        "df = df.drop('cdr_tiene_oca.1', axis=1)\n",
        "df = df.drop('cdr_tiene_financiera', axis=1)\n",
        "df = df.drop('cdr_tiene_brou', axis=1)\n",
        "df = df.drop('cdr_tiene_banco_privado', axis=1)\n",
        "df = df.drop('cdr_sum_deudas_ui', axis=1)\n",
        "df = df.drop('cdr_periodo', axis=1)\n",
        "df = df.drop('cdr_peor_calificacion', axis=1)\n",
        "df = df.drop('cdr_max_contingencia_ui', axis=1)\n",
        "df = df.drop('Tipo_Producto', axis=1)\n",
        "df = df.drop('Tipo Basico', axis=1)\n",
        "df = df.drop('clr_fecha', axis=1)\n",
        "df = df.drop('Canal', axis=1)\n",
        "df = df.drop('no_of_desc', axis=1)\n",
        "df = df.drop('id_solicitud', axis=1)\n",
        "df = df.drop('DesembolsoLugar', axis=1)\n",
        "df = df.drop('estado_tc', axis=1)\n",
        "df = df.drop('estado_pa', axis=1)\n",
        "df = df.drop('estado_cliente', axis=1)\n",
        "df = df.drop('cargo', axis=1)\n",
        "df = df.drop('meses_con_pagos', axis=1)\n",
        "df = df.drop('dias_atraso_max', axis=1)\n",
        "df = df.drop('DesembolsoSubAge.', axis=1)\n",
        "df = df.drop('DesembolsoAgencia', axis=1)\n",
        "df = df.drop('DesembolsoAgencia.1', axis=1)\n",
        "df = df.drop('CuotasPagas', axis=1)\n",
        "df = df.drop('localidad', axis=1)\n",
        "df = df.drop('Id_Cliente', axis=1)\n",
        "df = df.drop('Atraso', axis=1)\n",
        "df = df.drop('Solicitud', axis=1)\n",
        "df = df.drop('Fecha', axis=1)\n",
        "df = df.drop('Documento', axis=1)\n",
        "df = df.drop('tiene_tel_fijo', axis=1)\n",
        "df = df.drop('tiene_recibo_sueldo', axis=1)\n",
        "df = df.drop('TEA', axis=1)\n",
        "df = df.drop('plazo_hasta', axis=1)\n",
        "df = df.drop('monto_maximo', axis=1)\n",
        "df = df.drop('pricing', axis=1)\n",
        "df = df.drop('ingreso_estimado', axis=1)\n"
      ]
    },
    {
      "cell_type": "code",
      "source": [
        "df.shape"
      ],
      "metadata": {
        "id": "gpNdkLa4bD83"
      },
      "execution_count": null,
      "outputs": []
    },
    {
      "cell_type": "code",
      "execution_count": null,
      "metadata": {
        "id": "WKjDzyDFy0jq"
      },
      "outputs": [],
      "source": [
        "#Quitar todos los registros que en las que el campo 'clr_score' no tenga datos, hasta conseguir los faltantes\n",
        "\n",
        "# Eliminar filas donde 'clr_score' es nulo\n",
        "df = df.dropna(subset=['clr_score'])\n",
        "\n",
        "df.info()\n"
      ]
    },
    {
      "cell_type": "code",
      "execution_count": null,
      "metadata": {
        "id": "58J2T2qQza-X"
      },
      "outputs": [],
      "source": [
        "df.value_counts('dispositivo_marca')"
      ]
    },
    {
      "cell_type": "code",
      "execution_count": null,
      "metadata": {
        "id": "LdlS-5wI2Ckn"
      },
      "outputs": [],
      "source": [
        "# En el campo [dispositivo_marca], sólo si los valores son distintos de: 'Apple' imputar con valor 'Android' y si no hay datos imputar NaN\n",
        "\n",
        "# Imputar valores en 'dispositivo_marca'\n",
        "df['dispositivo_marca'] = np.where(df['dispositivo_marca'].isin(['Apple']), 'Apple',\n",
        "                                   np.where(df['dispositivo_marca'].notnull(), 'Android','Android'))\n"
      ]
    },
    {
      "cell_type": "code",
      "execution_count": null,
      "metadata": {
        "id": "AAzr98vF-NsP"
      },
      "outputs": [],
      "source": [
        "# Imputar 'Other' en 'sist_op_familia' si es distinto de 'Android', 'Other' o 'iOS'\n",
        "df['sist_op_familia'] = np.where(df['sist_op_familia'] == 'iOS', 'iOS', 'Android')\n",
        "\n"
      ]
    },
    {
      "cell_type": "code",
      "execution_count": null,
      "metadata": {
        "id": "7agc4r6Q9ZHp"
      },
      "outputs": [],
      "source": [
        "df.value_counts('sist_op_familia')"
      ]
    },
    {
      "cell_type": "code",
      "execution_count": null,
      "metadata": {
        "id": "vy2QNjDL28uC"
      },
      "outputs": [],
      "source": [
        "# prompt: Si existen datos en el campo [dispositivo_marca] vacíos imputar 'Sin dato'\n",
        "\n",
        "# Imputar valores en 'dispositivo_marca'\n",
        "#df['dispositivo_marca'] = np.where(df['dispositivo_marca'].isnull(), 'Other', df['dispositivo_marca'])\n",
        "df['dispositivo_marca'] = np.where(df['dispositivo_marca'] == 'Apple', 'Apple', 'Android')\n"
      ]
    },
    {
      "cell_type": "code",
      "execution_count": null,
      "metadata": {
        "id": "mOEUD6Ob0tm2"
      },
      "outputs": [],
      "source": [
        "df.value_counts('dispositivo_marca')"
      ]
    },
    {
      "cell_type": "code",
      "source": [
        "# Imputar 'Web' en 'navegador_familia' si es distinto de 'Facebook' o 'Instagram', dado que donde se ejecutan las campañas pueden venir por esos 3 canales.\n",
        "df['navegador_familia'] = np.where(df['navegador_familia'].isin(['Facebook', 'Instagram']), df['navegador_familia'], 'Web')\n"
      ],
      "metadata": {
        "id": "NuqAhwYdmz3u"
      },
      "execution_count": null,
      "outputs": []
    },
    {
      "cell_type": "code",
      "execution_count": null,
      "metadata": {
        "id": "BWWa6yNx8I5F"
      },
      "outputs": [],
      "source": [
        "df.value_counts('navegador_familia')"
      ]
    },
    {
      "cell_type": "code",
      "source": [
        "df['departamento'] = np.where(df['departamento'].isin(['MONTEVIDEO', 'CANELONES']), df['departamento'], 'RESTO')\n"
      ],
      "metadata": {
        "id": "1DF1rApiplXt"
      },
      "execution_count": null,
      "outputs": []
    },
    {
      "cell_type": "code",
      "source": [
        "df.value_counts('departamento')"
      ],
      "metadata": {
        "id": "-CgAm5XznoqD"
      },
      "execution_count": null,
      "outputs": []
    },
    {
      "cell_type": "code",
      "execution_count": null,
      "metadata": {
        "id": "7UqSH5XjgQKS",
        "collapsed": true
      },
      "outputs": [],
      "source": [
        "# Revisar valores faltantes\n",
        "\n",
        "#valores_faltantes = df.isnull().sum()\n",
        "#valores_faltantes"
      ]
    },
    {
      "cell_type": "code",
      "execution_count": null,
      "metadata": {
        "id": "IYdqXyX27Wjl"
      },
      "outputs": [],
      "source": [
        "df.value_counts('sist_op_familia')"
      ]
    },
    {
      "cell_type": "code",
      "execution_count": null,
      "metadata": {
        "id": "d8zOWlvaBTCI"
      },
      "outputs": [],
      "source": [
        "#Si el valor del campo Zero es Zero imputar 1 y si no 0 (en el dataset original están considerados además los 'malos' cuyo atraso pasa los 60 días)\n",
        "df['Zero'] = np.where(df['Zero'] == 'Zero', 1, 0)\n"
      ]
    },
    {
      "cell_type": "code",
      "execution_count": null,
      "metadata": {
        "id": "ecUmIgD9kh0g"
      },
      "outputs": [],
      "source": [
        "# Revisar valores faltantes\n",
        "\n",
        "valores_faltantes = df.isnull().sum()\n",
        "#valores_faltantes"
      ]
    },
    {
      "cell_type": "code",
      "execution_count": null,
      "metadata": {
        "collapsed": true,
        "id": "firW4bvScx-1"
      },
      "outputs": [],
      "source": [
        "#Modificar el parámetro de la tabla df['hora'] donde se muestran las horas del día desde 0 a 23, son tipos de datos periódicos, utilizando el cálculo trigonométrico más adecuado para introducir el parámetro en un modelo predictivo.\n",
        "\n",
        "# Convertir la columna 'hora' a valores numéricos entre 0 y 23\n",
        "df['Hora'] = pd.to_numeric(df['Hora'])\n",
        "\n",
        "# Calcular la representación sinusoidal de la hora\n",
        "df['hora_sin'] = np.sin(2 * np.pi * df['Hora'] / 24)\n",
        "df['hora_cos'] = np.cos(2 * np.pi * df['Hora'] / 24)\n",
        "\n",
        "# Eliminar la columna original 'hora'\n",
        "df = df.drop('Hora', axis=1)\n"
      ]
    },
    {
      "cell_type": "code",
      "source": [
        "# Imputar 'Web' en 'navegador_familia' si es distinto de 'Facebook' o 'Instagram', dado que donde se ejecutan las campañas pueden venir por esos 3 canales.\n",
        "df['clr_accion'] = np.where(df['clr_accion'].isin(['C2', 'C1_3_3','C4','C1_2_3','C1_3_6','C1_3_1','C3']), df['clr_accion'], 'Varios')\n"
      ],
      "metadata": {
        "id": "XQx89spJtoa7"
      },
      "execution_count": null,
      "outputs": []
    },
    {
      "cell_type": "code",
      "source": [
        "df.value_counts('clr_accion')"
      ],
      "metadata": {
        "id": "pKr3-vVstQIT"
      },
      "execution_count": null,
      "outputs": []
    },
    {
      "cell_type": "code",
      "source": [
        "df['nivel_educativo'] = df['nivel_educativo'].replace('Educación Básica', 'Primaria')\n",
        "df['nivel_educativo'] = df['nivel_educativo'].replace('Educación Secundaria', 'Secundaria')\n",
        "\n",
        "le = LabelEncoder()\n",
        "\n",
        "df['relacion_laboral'] = le.fit_transform(df['relacion_laboral']) + 1\n",
        "df['nivel_educativo'] = le.fit_transform(df['nivel_educativo']) + 1\n",
        "df['sist_op_familia'] = le.fit_transform(df['sist_op_familia']) + 1\n",
        "df['navegador_familia'] = le.fit_transform(df['navegador_familia']) + 1\n",
        "\n",
        "df['status_usuario'] = le.fit_transform(df['status_usuario']) + 1\n",
        "df['status'] = le.fit_transform(df['status']) + 1\n",
        "df['genero'] = le.fit_transform(df['genero']) + 1\n",
        "df['dispositivo_marca'] = le.fit_transform(df['dispositivo_marca']) + 1\n",
        "df['departamento'] = le.fit_transform(df['departamento']) + 1\n",
        "df['cel_carrier'] = le.fit_transform(df['cel_carrier']) + 1\n",
        "\n",
        "# Crear el nuevo campo numérico combinando 'nivel_educativo' y 'relacion_laboral'\n",
        "df['educacion_laboral'] = df['nivel_educativo'] * 10 + df['relacion_laboral']\n",
        "\n",
        "# Eliminar los campos originales\n",
        "df = df.drop(['nivel_educativo', 'relacion_laboral'], axis=1)\n",
        "\n",
        "#df.value_counts('educacion_laboral')"
      ],
      "metadata": {
        "id": "z7vGTpgbxFv3"
      },
      "execution_count": null,
      "outputs": []
    },
    {
      "cell_type": "code",
      "source": [
        "df['educacion_laboral'] = df['educacion_laboral'].astype('category')\n",
        "df['nivel_antiguedad_laboral'] = df['nivel_antiguedad_laboral'].astype('category')\n",
        "df['navegador_familia'] = df['navegador_familia'].astype('category')\n",
        "df['sist_op_familia'] = df['sist_op_familia'].astype('category')\n",
        "df['clr_accion'] = df['clr_accion'].astype('category')\n",
        "df['Día'] = df['Día'].astype('category')\n",
        "df['Semana_año'] = df['Semana_año'].astype('category')\n",
        "df['Quincena'] = df['Quincena'].astype('category')\n",
        "df['Num_Dia_Sem'] = df['Num_Dia_Sem'].astype('category')\n",
        "df['status_usuario'] = df['status_usuario'].astype('category')\n",
        "df['status'] = df['status'].astype('category')\n",
        "df['genero'] = df['genero'].astype('category')\n",
        "df['dispositivo_marca'] = df['dispositivo_marca'].astype('category')\n",
        "df['departamento'] = df['departamento'].astype('category')\n",
        "df['cel_carrier'] = df['cel_carrier'].astype('category')"
      ],
      "metadata": {
        "id": "gCrKpIxzzXV8"
      },
      "execution_count": null,
      "outputs": []
    },
    {
      "cell_type": "code",
      "execution_count": null,
      "metadata": {
        "collapsed": true,
        "id": "D5kyKtgD6-gF"
      },
      "outputs": [],
      "source": [
        "categorical_cols = df.select_dtypes(exclude=np.number).columns\n",
        "for col in categorical_cols:\n",
        "    print(f\"Valores únicos para la columna '{col}':\")\n",
        "    print(df[col].unique())\n",
        "    print(\"-\" * 20)"
      ]
    },
    {
      "cell_type": "code",
      "source": [
        "df = df.rename(columns={\n",
        "    'sist_op_familia': 'sist_op',\n",
        "    'nivel_antiguedad_laboral': 'antiguedad',\n",
        "    'navegador_familia': 'navegador',\n",
        "    'mejor_esquema_pricing': 'pricing',\n",
        "    'dispositivo_marca': 'marca',\n",
        "    'Cuotas': 'plazo_elegido',\n",
        "    'Capital': 'monto_retirado',\n",
        "    'dispositivo_marca': 'marca',\n",
        "    'status_usuario': 'status_u',\n",
        "})"
      ],
      "metadata": {
        "id": "lJqHhRL0_h6j"
      },
      "execution_count": null,
      "outputs": []
    },
    {
      "cell_type": "code",
      "source": [
        "df['clr_accion'] = le.fit_transform(df['clr_accion']) + 1"
      ],
      "metadata": {
        "id": "yS-Idhul_0g0"
      },
      "execution_count": null,
      "outputs": []
    },
    {
      "cell_type": "code",
      "source": [
        "df.info()"
      ],
      "metadata": {
        "id": "XKoRp5-sbqIL"
      },
      "execution_count": null,
      "outputs": []
    },
    {
      "cell_type": "markdown",
      "metadata": {
        "id": "OTIoCpIUvAmp"
      },
      "source": [
        "-------OOOOOOO-------"
      ]
    },
    {
      "cell_type": "code",
      "execution_count": null,
      "metadata": {
        "id": "1_JyBPiPDxo1"
      },
      "outputs": [],
      "source": [
        "pd.set_option(\"display.max_columns\", None)  # Show all columns\n",
        "display(df.head(5)) # Display first 5 rows with all columns"
      ]
    },
    {
      "cell_type": "code",
      "execution_count": null,
      "metadata": {
        "id": "RJkAKumDwa3I"
      },
      "outputs": [],
      "source": [
        "\n",
        "categorical_cols = df.select_dtypes(exclude=np.number).columns\n",
        "df[categorical_cols].head()\n"
      ]
    },
    {
      "cell_type": "code",
      "source": [
        "numeric_cols = df.select_dtypes(include=np.number).columns\n",
        "df[numeric_cols].head()\n"
      ],
      "metadata": {
        "id": "9_8h3B9I-O54"
      },
      "execution_count": null,
      "outputs": []
    },
    {
      "cell_type": "code",
      "source": [
        "numeric_cols = df.select_dtypes(include=np.number).columns\n",
        "df[numeric_cols].head()\n"
      ],
      "metadata": {
        "id": "xWuaUJlTAFlr"
      },
      "execution_count": null,
      "outputs": []
    },
    {
      "cell_type": "code",
      "source": [
        "df[numeric_cols].describe()"
      ],
      "metadata": {
        "id": "0KjgnWXRAVeZ"
      },
      "execution_count": null,
      "outputs": []
    },
    {
      "cell_type": "code",
      "source": [
        "\n",
        "entidades_quantiles = df['Entidades'].quantile([0.25, 0.5, 0.75])\n",
        "\n",
        "# Discretize 'Entidades' based on quantiles\n",
        "df['Entidades_disc'] = pd.cut(df['Entidades'], bins=[-np.inf] + entidades_quantiles.tolist() + [np.inf], labels=False, include_lowest=True)\n",
        "\n",
        "# Replace the original 'Entidades' column with the discretized values\n",
        "df['Entidades'] = df['Entidades_disc']\n",
        "df = df.drop('Entidades_disc', axis=1)\n",
        "\n",
        "\n",
        "# Calculate quantiles for 'Rel_DeudaPrincipal'\n",
        "rel_deuda_quantiles = df['Rel_DeudaPrincipal'].quantile([0.25, 0.5, 0.75])\n",
        "\n",
        "# Discretize 'Rel_DeudaPrincipal' based on quantiles\n",
        "df['Rel_DeudaPrincipal_disc'] = pd.cut(df['Rel_DeudaPrincipal'], bins=[-np.inf] + rel_deuda_quantiles.tolist() + [np.inf], labels=False, include_lowest=True)\n",
        "\n",
        "# Replace the original 'Rel_DeudaPrincipal' column with the discretized values\n",
        "df['Rel_DeudaPrincipal'] = df['Rel_DeudaPrincipal_disc']\n",
        "df = df.drop('Rel_DeudaPrincipal_disc', axis=1)\n"
      ],
      "metadata": {
        "id": "rcAvEepVBrHX"
      },
      "execution_count": null,
      "outputs": []
    },
    {
      "cell_type": "code",
      "source": [
        "df[numeric_cols].describe()"
      ],
      "metadata": {
        "id": "fizYBDKaCQ3V"
      },
      "execution_count": null,
      "outputs": []
    },
    {
      "cell_type": "code",
      "source": [
        "# prompt: Preparar las variables de exposición y deuda para aplicar a un modelo predictivo, evaluar la mejor forma de obtener mejores resultados\n",
        "\n",
        "# Identify features for scaling (numerical features excluding 'Zero')\n",
        "# Removed 'Grupo_b' and 'Grupo_i' as they might contain string values\n",
        "features_to_scale = ['Exposición', 'Deuda', 'Rel_DeudaPrincipal', 'Var_dueda_3M', 'Q_irregular_12m', 'monto_retirado', 'plazo_elegido', 'clr_score', 'edad']\n",
        "\n",
        "# Initialize the MinMaxScaler\n",
        "scaler = MinMaxScaler()\n",
        "\n",
        "# Fit and transform the selected features\n",
        "df[features_to_scale] = scaler.fit_transform(df[features_to_scale])\n",
        "\n",
        "# Display the updated DataFrame\n",
        "print(df.head())\n"
      ],
      "metadata": {
        "id": "sap37N9YDDZY"
      },
      "execution_count": null,
      "outputs": []
    },
    {
      "cell_type": "code",
      "execution_count": null,
      "metadata": {
        "id": "iKBE9VazxAYp"
      },
      "outputs": [],
      "source": [
        "#Evaluar incoherencias en descripción de variales numéricas, valores dentro de rangos razonables\n",
        "df.describe()"
      ]
    },
    {
      "cell_type": "code",
      "source": [
        "# Mostrar campos categóricos\n",
        "categorical_cols = df.select_dtypes(exclude=np.number).columns\n",
        "df[categorical_cols].head()\n"
      ],
      "metadata": {
        "id": "jqeh7xr7IcJz"
      },
      "execution_count": null,
      "outputs": []
    },
    {
      "cell_type": "code",
      "source": [
        "df.columns"
      ],
      "metadata": {
        "id": "CpVgTr_pMmFj"
      },
      "execution_count": null,
      "outputs": []
    },
    {
      "cell_type": "code",
      "source": [
        "corrMatt = df[['Día', 'Semana_año', 'Quincena', 'Num_Dia_Sem', 'Zero', 'status_u',\n",
        "       'status', 'sist_op', 'antiguedad', 'navegador', 'ingreso_declarado',\n",
        "       'genero', 'edad', 'marca', 'departamento', 'plazo_elegido', 'clr_score',\n",
        "       'clr_accion', 'cel_carrier', 'monto_retirado', 'Entidades',\n",
        "       'Exposición', 'Deuda', 'Rel_DeudaPrincipal', 'Contingencia',\n",
        "       'Var_dueda_3M', 'Sin_Ficha', 'Malos', 'Mejora',\n",
        "       'Q_irregular_12m', 'hora_sin', 'hora_cos', 'educacion_laboral']].corr() # Removed 'Grupo_b', 'Grupo_i'\n",
        "mask = np.array(corrMatt)\n",
        "mask[np.tril_indices_from(mask)] = False\n",
        "sn.heatmap(corrMatt, mask=mask,\n",
        "           vmax=.8, square=True,annot=True)"
      ],
      "metadata": {
        "id": "W0bnfAXfNtgC"
      },
      "execution_count": null,
      "outputs": []
    },
    {
      "cell_type": "code",
      "source": [
        "# ... (previous code) ...\n",
        "df['clr_accion'] = le.fit_transform(df['clr_accion']) + 1\n",
        "# ... (previous code) ...\n",
        "\n",
        "# Convert 'educacion_laboral' to numerical representation using Label Encoding\n",
        "df['educacion_laboral'] = le.fit_transform(df['educacion_laboral']) + 1\n",
        "\n",
        "# Convert all categorical columns to numerical using one-hot encoding\n",
        "categorical_cols = df.select_dtypes(exclude=np.number).columns\n",
        "# Using pandas get_dummies for one-hot encoding\n",
        "df = pd.get_dummies(df, columns=categorical_cols, drop_first=True)\n",
        "\n",
        "# Define 'Zero' como la variable objetivo\n",
        "y = df['Zero']\n",
        "\n",
        "# Divide los datos en conjuntos de entrenamiento y prueba\n",
        "X_df = df.drop('Zero', axis=1)\n",
        "\n",
        "num_data_points = len(X_df)\n",
        "cut = int(.7 * num_data_points)\n",
        "\n",
        "X_train = X_df[:cut]\n",
        "y_train = y[:cut] # Usa la variable objetivo correcta 'y'\n",
        "X_test = X_df[cut:]\n",
        "y_test = y[cut:]\n",
        "print(X_train.shape, X_test.shape)\n",
        "# ... (rest of the code) ..."
      ],
      "metadata": {
        "id": "RhMkyBPs_dE6"
      },
      "execution_count": null,
      "outputs": []
    },
    {
      "cell_type": "code",
      "source": [
        "from sklearn import linear_model\n",
        "\n",
        "logistic = linear_model.LogisticRegression(max_iter=1000, solver='liblinear')\n",
        "logistic.fit(X_train, y_train)"
      ],
      "metadata": {
        "id": "4-blqPGcGFvG"
      },
      "execution_count": null,
      "outputs": []
    },
    {
      "cell_type": "code",
      "source": [
        "#Evalúo el resultado del modelo LogisticRegression.\n",
        "\n",
        "\n",
        "# Predict on the test set\n",
        "y_pred = logistic.predict(X_test)\n",
        "\n",
        "# Evaluate the model\n",
        "print(classification_report(y_test, y_pred))\n",
        "\n",
        "# Confusion matrix\n",
        "cm = confusion_matrix(y_test, y_pred)\n",
        "print(\"Confusion Matrix:\")\n",
        "print(cm)\n",
        "\n",
        "plt.figure(figsize=(8, 6))\n",
        "sns.heatmap(cm, annot=True, fmt=\"d\", cmap=\"Blues\",\n",
        "            xticklabels=['Predicted 0', 'Predicted 1'],\n",
        "            yticklabels=['Actual 0', 'Actual 1'])\n",
        "plt.title(\"Confusion Matrix\")\n",
        "plt.xlabel(\"Predicted\")\n",
        "plt.ylabel(\"Actual\")\n",
        "plt.show()"
      ],
      "metadata": {
        "id": "CFxeyddWAIiq"
      },
      "execution_count": null,
      "outputs": []
    },
    {
      "cell_type": "code",
      "source": [
        "\n",
        "feature_importances = logistic.coef_[0]\n",
        "\n",
        "# Create a DataFrame to display feature importances\n",
        "feature_importance_df = pd.DataFrame({'Feature': X_train.columns, 'Importance': feature_importances})\n",
        "\n",
        "# Sort by importance\n",
        "feature_importance_df = feature_importance_df.sort_values(by='Importance', ascending=False)\n",
        "\n",
        "# Display the top N features (e.g., top 10)\n",
        "print(feature_importance_df.head(10))\n",
        "\n",
        "\n",
        "# Visualize feature importances\n",
        "plt.figure(figsize=(10, 6))\n",
        "plt.barh(feature_importance_df['Feature'][:10], feature_importance_df['Importance'][:10])\n",
        "plt.xlabel('Importance')\n",
        "plt.ylabel('Feature')\n",
        "plt.title('Top 10 Feature Importances (Logistic Regression)')\n",
        "plt.show()\n"
      ],
      "metadata": {
        "id": "EwJWRLDfLqvz"
      },
      "execution_count": null,
      "outputs": []
    }
  ],
  "metadata": {
    "colab": {
      "provenance": [],
      "include_colab_link": true
    },
    "kernelspec": {
      "display_name": "Python 3",
      "name": "python3"
    },
    "language_info": {
      "name": "python"
    }
  },
  "nbformat": 4,
  "nbformat_minor": 0
}